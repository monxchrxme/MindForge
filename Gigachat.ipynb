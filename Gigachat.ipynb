{
 "cells": [
  {
   "metadata": {},
   "cell_type": "code",
   "outputs": [],
   "execution_count": null,
   "source": [
    "import os\n",
    "from dotenv import load_dotenv\n",
    "from typing import TypedDict, Annotated, List\n",
    "import operator\n",
    "\n",
    "from langchain_gigachat.chat_models import GigaChat\n",
    "from langchain_core.messages import HumanMessage, AIMessage, SystemMessage\n",
    "from langchain_core.prompts import ChatPromptTemplate\n",
    "from langgraph.graph import StateGraph, END, START\n",
    "\n",
    "load_dotenv()\n",
    "\n",
    "def create_gigachat_client():\n",
    "    return GigaChat(\n",
    "        credentials=os.getenv(\"GIGACHAT_CREDENTIALS\"),\n",
    "        verify_ssl_certs=False,\n",
    "        scope=os.getenv(\"GIGACHAT_SCOPE\", \"GIGACHAT_API_PERS\"),\n",
    "        timeout=30\n",
    "    )\n",
    "\n",
    "llm = create_gigachat_client()\n",
    "test_response = llm.invoke([HumanMessage(content=\"Привет! Ты работаешь?\")])\n",
    "print(\"🤖 GigaChat ответил:\", test_response.content)\n",
    "\n",
    "\n",
    "\n"
   ],
   "id": "448c8b7ecf22cd49"
  }
 ],
 "metadata": {},
 "nbformat": 4,
 "nbformat_minor": 5
}
