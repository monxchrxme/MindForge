{
 "cells": [
  {
   "metadata": {},
   "cell_type": "markdown",
   "source": "Используемые библиотеки\n",
   "id": "927182e825115259"
  },
  {
   "metadata": {
    "ExecuteTime": {
     "end_time": "2025-10-28T12:17:30.320908Z",
     "start_time": "2025-10-28T12:17:29.729847Z"
    }
   },
   "cell_type": "code",
   "source": [
    "import os\n",
    "from dotenv import load_dotenv\n",
    "from typing import TypedDict, Annotated, List\n",
    "import operator\n",
    "\n",
    "from langchain_gigachat.chat_models import GigaChat\n",
    "from langchain_core.messages import HumanMessage, AIMessage, SystemMessage\n",
    "from langchain_core.prompts import ChatPromptTemplate\n",
    "from langgraph.graph import StateGraph, END, START\n",
    "\n",
    "load_dotenv()"
   ],
   "id": "67864f2e0867c7e9",
   "outputs": [
    {
     "data": {
      "text/plain": [
       "True"
      ]
     },
     "execution_count": 1,
     "metadata": {},
     "output_type": "execute_result"
    }
   ],
   "execution_count": 1
  },
  {
   "metadata": {},
   "cell_type": "markdown",
   "source": "Простейшая реализация подключения к Gigachat API",
   "id": "b76cdf9734bdfd18"
  },
  {
   "metadata": {
    "ExecuteTime": {
     "end_time": "2025-10-28T12:17:33.137509Z",
     "start_time": "2025-10-28T12:17:31.510808Z"
    }
   },
   "cell_type": "code",
   "source": [
    "print(\"GIGACHAT_CLIENT_ID:\", os.getenv(\"GIGACHAT_CLIENT_ID\"))\n",
    "print(\"GIGACHAT_CREDENTIALS:\", os.getenv(\"GIGACHAT_CREDENTIALS\"))\n",
    "print(\"GIGACHAT_SCOPE:\", os.getenv(\"GIGACHAT_SCOPE\"))\n",
    "\n",
    "def create_gigachat_parser_client():\n",
    "    return GigaChat(\n",
    "        credentials=os.getenv(\"GIGACHAT_CREDENTIALS\"),\n",
    "        verify_ssl_certs=False,\n",
    "        scope=os.getenv(\"GIGACHAT_SCOPE\", \"GIGACHAT_API_PERS\"),\n",
    "        temperature=0.2,\n",
    "        timeout=60\n",
    "    )\n",
    "def create_gigachat_quiz_client():\n",
    "    return GigaChat(\n",
    "        credentials=os.getenv(\"GIGACHAT_CREDENTIALS\"),\n",
    "        verify_ssl_certs=False,\n",
    "        scope=os.getenv(\"GIGACHAT_SCOPE\", \"GIGACHAT_API_PERS\"),\n",
    "        temperature=0.6,\n",
    "        timeout=60\n",
    "    )\n",
    "\n",
    "llm_parser = create_gigachat_parser_client()\n",
    "llm_quiz = create_gigachat_quiz_client()\n",
    "test_response_parser = llm_parser.invoke([HumanMessage(content=\"Привет! Ты работаешь?\")])\n",
    "test_response_quiz = llm_quiz.invoke([HumanMessage(content=\"Привет! Ты работаешь?\")])\n",
    "print(\"🤖 GigaChat ответил:\", test_response_parser.content)\n",
    "print(\"*\"*100)\n",
    "print(\"🤖 GigaChat ответил:\", test_response_quiz.content)\n"
   ],
   "id": "81287dbb4796d509",
   "outputs": [
    {
     "name": "stdout",
     "output_type": "stream",
     "text": [
      "GIGACHAT_CLIENT_ID: 019a1f79-b5b9-7735-9e39-f5eeb0918d30\n",
      "GIGACHAT_CREDENTIALS: MDE5YTFmNzktYjViOS03NzM1LTllMzktZjVlZWIwOTE4ZDMwOjc4NGU3NzdjLTg5ZjQtNGZkMC1iYWIyLTkxOTg4NTQ3ZDIzMQ==\n",
      "GIGACHAT_SCOPE: GIGACHAT_API_PERS\n",
      "🤖 GigaChat ответил: Привет! Да, работаю — отвечаю на твои вопросы, помогаю решать задачи, обсуждать темы, писать тексты и многое другое. Что нужно обсудить?\n",
      "****************************************************************************************************\n",
      "🤖 GigaChat ответил: Привет! Да, работаю — отвечаю на твои вопросы, помогаю решать задачи, обсуждать темы и даже общаться на разные интересные темы. Что хочешь обсудить?\n"
     ]
    }
   ],
   "execution_count": 2
  },
  {
   "metadata": {},
   "cell_type": "markdown",
   "source": "Парсер-агент",
   "id": "212e2725bae00ccd"
  },
  {
   "metadata": {},
   "cell_type": "code",
   "source": [
    "    with open(\"sample_lecture.txt\", \"r\", encoding=\"utf-8\") as f:\n",
    "        lecture = f.read()\n",
    "    \n",
    "    \n",
    "    test_state = {\n",
    "        \"lecture_text\": lecture,\n",
    "        \"key_facts\": [],\n",
    "        \"quiz_questions\": [],\n",
    "        \"messages\": [],\n",
    "        \"current_step\": \"start\"\n",
    "    }\n",
    "    def parser_agent(state: test_state) -> test_state:\n",
    "        print(\"Парсер агент запущен...\")\n",
    "        lecture_text = state[\"lecture_text\"]\n",
    "        system_prompt = ChatPromptTemplate.from_messages([\n",
    "        (\"system\", \"\"\"Ты — эксперт-аналитик образовательного контента с многолетним опытом работы в академической среде.\n",
    "    \n",
    "        Твоя основная задача: тщательно проанализировать предоставленный текст лекции и извлечь наиболее значимые ключевые факты, которые студент должен запомнить для глубокого понимания темы.\n",
    "    \n",
    "        КРИТЕРИИ ОТБОРА ФАКТОВ:\n",
    "        1. Полнота и самодостаточность — каждый факт представляет собой законченное, самостоятельное утверждение, которое можно понять вне контекста лекции\n",
    "        2. Проверяемость и конкретность — факты должны содержать конкретные определения, формулы, даты, названия, числовые данные или четкие логические связи\n",
    "        3. Приоритет важности — отбирай только концептуально значимую информацию: определения ключевых терминов, основные теоремы, законы, формулы, исторические вехи, причинно-следственные связи\n",
    "        4. Точность формулировок — сохраняй терминологию и научную строгость из оригинального текста\n",
    "        5. Избегай повторов — каждый факт должен нести уникальную информацию\n",
    "    \n",
    "        КОЛИЧЕСТВО: извлеки от 5 до 8 ключевых фактов в зависимости от насыщенности материала.\n",
    "    \n",
    "        ФОРМАТ ВЫВОДА:\n",
    "        - Каждый факт начинается с дефиса \"-\" и новой строки\n",
    "        - Факт формулируется как одно полное предложение (допустимо 2-3 предложения, если информация сложная)\n",
    "        - НЕ добавляй нумерацию, заголовки, комментарии или метаинформацию\n",
    "        - НЕ пиши вводных фраз типа \"Вот факты:\" или \"Список фактов:\"\n",
    "    \n",
    "        ПРИМЕР КОРРЕКТНОГО ВЫВОДА:\n",
    "        - Производная функции f(x) обозначается как f'(x) и показывает скорость изменения функции в данной точке\n",
    "        - Геометрический смысл производной — тангенс угла наклона касательной к графику функции в заданной точке\n",
    "        - Производная константы равна нулю, так как константа не изменяется\n",
    "        - Правило дифференцирования суммы: (f+g)' = f' + g'\n",
    "        - Производная степенной функции x^n равна n·x^(n-1)\n",
    "    \n",
    "        Анализируй лекцию внимательно, выделяя фундаментальные знания, которые формируют понимание темы.\"\"\"),\n",
    "        (\"user\", \"Текст лекции:\\n\\n{lecture_text}\\n\\nИзвлеки ключевые факты согласно заданным критериям:\")\n",
    "    ])\n",
    "        chain = system_prompt | llm_parser\n",
    "    \n",
    "        response = chain.invoke({\"lecture_text\": lecture_text})\n",
    "        facts_text = response.content\n",
    "        facts = [\n",
    "            line.strip().lstrip(\"- \").lstrip(\"• \")\n",
    "            for line in facts_text.split(\"\\n\")\n",
    "            if line.strip() and (line.strip().startswith(\"-\") or line.strip().startswith(\"•\"))\n",
    "        ]\n",
    "    \n",
    "    \n",
    "        state[\"key_facts\"] = facts\n",
    "        state[\"messages\"].append(AIMessage(content=f\"Parser Agent извлек {len(facts)} фактов\"))\n",
    "        state[\"current_step\"] = \"parsing_complete\"\n",
    "    \n",
    "        return state\n",
    "    \n",
    "    print(\"\\n\" + \"=\"*60)\n",
    "    print(\"ТЕСТИРОВАНИЕ PARSER AGENT\")\n",
    "    print(\"=\"*60)\n",
    "    \n",
    "    result_state = parser_agent(test_state)\n",
    "    print(\"\\n Result:\")\n",
    "    for fact in result_state[\"key_facts\"]:\n",
    "        print(f\"  ✓ {fact}\")"
   ],
   "id": "f0c67cef130b1459",
   "outputs": [],
   "execution_count": null
  }
 ],
 "metadata": {
  "kernelspec": {
   "name": "python3",
   "language": "python",
   "display_name": "Python 3 (ipykernel)"
  }
 },
 "nbformat": 4,
 "nbformat_minor": 5
}
